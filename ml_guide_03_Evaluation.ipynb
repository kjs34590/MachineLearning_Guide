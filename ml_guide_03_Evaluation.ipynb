{
 "cells": [
  {
   "cell_type": "markdown",
   "metadata": {},
   "source": [
    "# CHAPTER 03 : 평가\n"
   ]
  },
  {
   "cell_type": "markdown",
   "metadata": {},
   "source": [
    "- 머신러닝의 프로세스 : 데이터 가공/변환 -> 모델 학습/예측 -> **평가(Evaluation)**\n",
    "\n",
    "> **성능 평가 지표**\n",
    ">\n",
    "> 회귀 모델 : 실제값과 예측값의 오차 평균값에 기반 (ex : 오차에 절댓값을 씌운 뒤 평균 오차를 구하거나 오차의 제곱 값에 루트를 씌운 뒤 평균 오차를 구하는 방법 등 기본적으로 예측 오차를 가지고 정규화 수준을 재가공하는 방법)\n",
    ">\n",
    "> 분류 모델 : 기본적으로는 실제값과 예측값의 오류가 적은지의 정확도에 기반하지만, 그밖에도 다양한 지표 고려 필요\n",
    "> - 정확도(Accuracy)\n",
    "> - 오차행렬(Confusion Matrix)\n",
    "> - 정밀도(Precision)\n",
    "> - 재현율(Recall)\n",
    "> - F1 스코어\n",
    "> - ROC AUC"
   ]
  },
  {
   "cell_type": "markdown",
   "metadata": {},
   "source": [
    "## 01 정확도 (Accuracy)\n",
    "\n",
    "$정확도(Accuracy) = \\cfrac{예측결과가 동일한 데이터 건수}{전체 예측 데이터 건수}$\n",
    "\n"
   ]
  },
  {
   "cell_type": "code",
   "execution_count": null,
   "metadata": {},
   "outputs": [],
   "source": []
  },
  {
   "cell_type": "code",
   "execution_count": null,
   "metadata": {},
   "outputs": [],
   "source": []
  },
  {
   "cell_type": "code",
   "execution_count": null,
   "metadata": {},
   "outputs": [],
   "source": []
  },
  {
   "cell_type": "code",
   "execution_count": null,
   "metadata": {},
   "outputs": [],
   "source": []
  },
  {
   "cell_type": "code",
   "execution_count": null,
   "metadata": {},
   "outputs": [],
   "source": []
  }
 ],
 "metadata": {
  "kernelspec": {
   "display_name": "Python 3",
   "language": "python",
   "name": "python3"
  },
  "language_info": {
   "codemirror_mode": {
    "name": "ipython",
    "version": 3
   },
   "file_extension": ".py",
   "mimetype": "text/x-python",
   "name": "python",
   "nbconvert_exporter": "python",
   "pygments_lexer": "ipython3",
   "version": "3.8.5"
  }
 },
 "nbformat": 4,
 "nbformat_minor": 4
}
