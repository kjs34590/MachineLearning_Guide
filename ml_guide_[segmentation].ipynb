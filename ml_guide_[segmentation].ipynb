{
 "cells": [
  {
   "cell_type": "markdown",
   "metadata": {},
   "source": [
    "## 06 군집화 실습 - 고객 세그먼테이션\n",
    "### 고객 세그먼테이션의 정의와 기법\n",
    "\n",
    "- 가장 기본적인 고객 분석 요소인 RFM 기법 활용\n",
    "> - RECENCY (R) : 가장 최근 상품 구입일에서 오늘까지의 기간\n",
    "> - FREQUENCY (F) : 상품 구매 횟수\n",
    "> - MONETARY VALUE (M) : 총 구매 금액"
   ]
  },
  {
   "cell_type": "markdown",
   "metadata": {},
   "source": [
    "### 데이터 세트 로딩과 데이터 클렌징\n"
   ]
  }
 ],
 "metadata": {
  "kernelspec": {
   "display_name": "Python 3",
   "language": "python",
   "name": "python3"
  },
  "language_info": {
   "codemirror_mode": {
    "name": "ipython",
    "version": 3
   },
   "file_extension": ".py",
   "mimetype": "text/x-python",
   "name": "python",
   "nbconvert_exporter": "python",
   "pygments_lexer": "ipython3",
   "version": "3.8.5"
  }
 },
 "nbformat": 4,
 "nbformat_minor": 4
}
